{
 "cells": [
  {
   "cell_type": "code",
   "execution_count": 1,
   "metadata": {},
   "outputs": [],
   "source": [
    "import pandas as pd\n",
    "from ntscraper import Nitter"
   ]
  },
  {
   "cell_type": "code",
   "execution_count": 2,
   "metadata": {},
   "outputs": [
    {
     "name": "stderr",
     "output_type": "stream",
     "text": [
      "Testing instances:  13%|██▉                    | 10/77 [00:42<07:21,  6.59s/it]"
     ]
    },
    {
     "name": "stdout",
     "output_type": "stream",
     "text": [
      "14-Apr-24 16:25:44 - Certificate did not match expected hostname: nitter.nl. Certificate: {'subject': ((('commonName', 'invidious.nl'),),), 'issuer': ((('countryName', 'US'),), (('organizationName', \"Let's Encrypt\"),), (('commonName', 'R3'),)), 'version': 3, 'serialNumber': '0324F83ECE64674709BEC8F5D3FE821FBD5E', 'notBefore': 'Apr  5 09:03:34 2024 GMT', 'notAfter': 'Jul  4 09:03:33 2024 GMT', 'subjectAltName': (('DNS', 'invidious.nl'), ('DNS', 'www.invidious.nl')), 'OCSP': ('http://r3.o.lencr.org',), 'caIssuers': ('http://r3.i.lencr.org/',)}\n"
     ]
    },
    {
     "name": "stderr",
     "output_type": "stream",
     "text": [
      "Testing instances:  92%|█████████████████████▏ | 71/77 [02:52<00:07,  1.29s/it]"
     ]
    },
    {
     "name": "stdout",
     "output_type": "stream",
     "text": [
      "14-Apr-24 16:27:54 - Certificate did not match expected hostname: nt.ggtyler.dev. Certificate: {'subject': ((('commonName', '4g.ggtyler.dev'),),), 'issuer': ((('countryName', 'US'),), (('organizationName', \"Let's Encrypt\"),), (('commonName', 'R3'),)), 'version': 3, 'serialNumber': '048FA3D68DCD65927A6C57C2A3C9C1F8CA14', 'notBefore': 'Mar 15 00:26:35 2024 GMT', 'notAfter': 'Jun 13 00:26:34 2024 GMT', 'subjectAltName': (('DNS', '4g.ggtyler.dev'),), 'OCSP': ('http://r3.o.lencr.org',), 'caIssuers': ('http://r3.i.lencr.org/',)}\n"
     ]
    },
    {
     "name": "stderr",
     "output_type": "stream",
     "text": [
      "Testing instances:  95%|█████████████████████▊ | 73/77 [02:53<00:03,  1.16it/s]"
     ]
    },
    {
     "name": "stdout",
     "output_type": "stream",
     "text": [
      "14-Apr-24 16:27:55 - Certificate did not match expected hostname: nitter.uni-sonia.com. Certificate: {'subject': ((('commonName', '*.xserver.jp'),),), 'issuer': ((('countryName', 'JP'),), (('stateOrProvinceName', 'OSAKA'),), (('localityName', 'OSAKA'),), (('organizationName', 'SecureCore'),), (('commonName', 'SecureCore RSA DV CA'),)), 'version': 3, 'serialNumber': 'BF71C31D26716FA7B20B958F0053B3ED', 'notBefore': 'Mar 31 00:00:00 2023 GMT', 'notAfter': 'Apr 30 23:59:59 2024 GMT', 'subjectAltName': (('DNS', '*.xserver.jp'), ('DNS', 'xserver.jp')), 'OCSP': ('http://ocsp.securecore-ca.com',), 'caIssuers': ('http://crt.securecore-ca.com/SecureCoreRSADVCA.crt',), 'crlDistributionPoints': ('http://crl.securecore-ca.com/SecureCoreRSADVCA.crl',)}\n"
     ]
    },
    {
     "name": "stderr",
     "output_type": "stream",
     "text": [
      "Testing instances: 100%|███████████████████████| 77/77 [03:02<00:00,  2.37s/it]\n"
     ]
    }
   ],
   "source": [
    "scraper = Nitter()"
   ]
  },
  {
   "cell_type": "code",
   "execution_count": 5,
   "metadata": {},
   "outputs": [
    {
     "name": "stdout",
     "output_type": "stream",
     "text": [
      "14-Apr-24 16:28:57 - No instance specified, using random instance https://nitter.esmailelbob.xyz\n",
      "14-Apr-24 16:29:05 - Current stats for theestatemart: 3 tweets, 0 threads...\n"
     ]
    }
   ],
   "source": [
    "tweets = scraper.get_tweets('theestatemart', mode ='user' , number =3)"
   ]
  },
  {
   "cell_type": "code",
   "execution_count": 6,
   "metadata": {},
   "outputs": [
    {
     "data": {
      "text/plain": [
       "{'tweets': [{'link': 'https://twitter.com/theestatemart/status/1760939615790272833#m',\n",
       "   'text': 'Available For Sale Location: Katampe, Abuja Description: 4 bedroom  Detached Duplex Purpose: Residential Price: N700,000,000  Features  Living Room 4 No Bedroom Ensuite Garden BQ',\n",
       "   'user': {'name': 'The Estate Mart',\n",
       "    'username': '@theestatemart',\n",
       "    'profile_id': '857518230319108097',\n",
       "    'avatar': 'https://pbs.twimg.com/profile_images/857518230319108097/-3TFWPAe_bigger.png'},\n",
       "   'date': 'Feb 23, 2024 · 8:08 AM UTC',\n",
       "   'is-retweet': True,\n",
       "   'is-pinned': False,\n",
       "   'external-link': '',\n",
       "   'replying-to': [],\n",
       "   'quoted-post': {},\n",
       "   'stats': {'comments': 0, 'retweets': 1, 'quotes': 0, 'likes': 0},\n",
       "   'pictures': [],\n",
       "   'videos': ['https://video.twimg.com/ext_tw_video/1760939563139178496/pu/pl/4Tq3MCsTdoyhFWyl.m3u8?tag=12&container=cmaf'],\n",
       "   'gifs': []},\n",
       "  {'link': 'https://twitter.com/theestatemart/status/1756940677655466345#m',\n",
       "   'text': 'A well finished, 7bedroom detached duplex with 1bedroom flat pent house, 3bedroom guest charlet and 2room BQ in Asokoro Abuja. Features All room in-suite The property has a Large space for car parks. The house is in a cool and serene environment.  Rent - N45,000,000',\n",
       "   'user': {'name': 'The Estate Mart',\n",
       "    'username': '@theestatemart',\n",
       "    'profile_id': '857518230319108097',\n",
       "    'avatar': 'https://pbs.twimg.com/profile_images/857518230319108097/-3TFWPAe_bigger.png'},\n",
       "   'date': 'Feb 12, 2024 · 7:17 AM UTC',\n",
       "   'is-retweet': True,\n",
       "   'is-pinned': False,\n",
       "   'external-link': '',\n",
       "   'replying-to': [],\n",
       "   'quoted-post': {},\n",
       "   'stats': {'comments': 0, 'retweets': 1, 'quotes': 0, 'likes': 1},\n",
       "   'pictures': [],\n",
       "   'videos': ['https://video.twimg.com/ext_tw_video/1756940635855073280/pu/pl/pxaUR4sDWD_z7Lzx.m3u8?tag=12&container=cmaf'],\n",
       "   'gifs': []},\n",
       "  {'link': 'https://twitter.com/theestatemart/status/1755213715291390186#m',\n",
       "   'text': 'AVAILABLE FOR RENT Location: Dutse District Abuja Description: Four-Bedroom Semi-Detached Duplex with BQ Purpose: Residential Proximity: Cedarcrest Hospital,  Facilities: - Fitted kitchen, bedroom cabinet and wardrobes - Ample parking space   Rent: N6,000,000.00 per annumApo',\n",
       "   'user': {'name': 'The Estate Mart',\n",
       "    'username': '@theestatemart',\n",
       "    'profile_id': '857518230319108097',\n",
       "    'avatar': 'https://pbs.twimg.com/profile_images/857518230319108097/-3TFWPAe_bigger.png'},\n",
       "   'date': 'Feb 7, 2024 · 12:55 PM UTC',\n",
       "   'is-retweet': True,\n",
       "   'is-pinned': False,\n",
       "   'external-link': '',\n",
       "   'replying-to': [],\n",
       "   'quoted-post': {},\n",
       "   'stats': {'comments': 0, 'retweets': 1, 'quotes': 0, 'likes': 1},\n",
       "   'pictures': ['https://pbs.twimg.com/media/GFvFjZQXEAA4FTz.jpg',\n",
       "    'https://pbs.twimg.com/media/GFvFkBdX0AAf7cK.jpg',\n",
       "    'https://pbs.twimg.com/media/GFvFkULXsAEbP_h.jpg',\n",
       "    'https://pbs.twimg.com/media/GFvFklYXUAErtQb.jpg'],\n",
       "   'videos': [],\n",
       "   'gifs': []}],\n",
       " 'threads': []}"
      ]
     },
     "execution_count": 6,
     "metadata": {},
     "output_type": "execute_result"
    }
   ],
   "source": [
    "tweets\n"
   ]
  },
  {
   "cell_type": "code",
   "execution_count": 8,
   "metadata": {},
   "outputs": [],
   "source": [
    "def get_tweets(name, modes, no):\n",
    "    tweets = scraper.get_tweets(name, mode =modes, number =no)\n",
    "    final_tweets = []\n",
    "    for tweet in tweets ['tweets']:\n",
    "        data = [tweet['link'], tweet['text'], tweet['date'], tweet['stats']['likes'], tweet['stats']['comments']]\n",
    "        final_tweets.append(data)\n",
    "    data = pd.DataFrame(final_tweets, columns=['link','text','date', 'No_of_Likes', 'No_of_tweets'])\n",
    "    return data\n",
    "    "
   ]
  },
  {
   "cell_type": "code",
   "execution_count": 12,
   "metadata": {},
   "outputs": [
    {
     "name": "stdout",
     "output_type": "stream",
     "text": [
      "14-Apr-24 16:31:14 - No instance specified, using random instance https://nitter.esmailelbob.xyz\n",
      "14-Apr-24 16:31:22 - Current stats for theestatemart: 3 tweets, 0 threads...\n"
     ]
    }
   ],
   "source": [
    "data = get_tweets('theestatemart', 'user', 3)"
   ]
  },
  {
   "cell_type": "code",
   "execution_count": 13,
   "metadata": {},
   "outputs": [
    {
     "data": {
      "text/html": [
       "<div>\n",
       "<style scoped>\n",
       "    .dataframe tbody tr th:only-of-type {\n",
       "        vertical-align: middle;\n",
       "    }\n",
       "\n",
       "    .dataframe tbody tr th {\n",
       "        vertical-align: top;\n",
       "    }\n",
       "\n",
       "    .dataframe thead th {\n",
       "        text-align: right;\n",
       "    }\n",
       "</style>\n",
       "<table border=\"1\" class=\"dataframe\">\n",
       "  <thead>\n",
       "    <tr style=\"text-align: right;\">\n",
       "      <th></th>\n",
       "      <th>link</th>\n",
       "      <th>text</th>\n",
       "      <th>date</th>\n",
       "      <th>No_of_Likes</th>\n",
       "      <th>No_of_tweets</th>\n",
       "    </tr>\n",
       "  </thead>\n",
       "  <tbody>\n",
       "    <tr>\n",
       "      <th>0</th>\n",
       "      <td>https://twitter.com/theestatemart/status/17609...</td>\n",
       "      <td>Available For Sale Location: Katampe, Abuja De...</td>\n",
       "      <td>Feb 23, 2024 · 8:08 AM UTC</td>\n",
       "      <td>0</td>\n",
       "      <td>0</td>\n",
       "    </tr>\n",
       "    <tr>\n",
       "      <th>1</th>\n",
       "      <td>https://twitter.com/theestatemart/status/17569...</td>\n",
       "      <td>A well finished, 7bedroom detached duplex with...</td>\n",
       "      <td>Feb 12, 2024 · 7:17 AM UTC</td>\n",
       "      <td>1</td>\n",
       "      <td>0</td>\n",
       "    </tr>\n",
       "    <tr>\n",
       "      <th>2</th>\n",
       "      <td>https://twitter.com/theestatemart/status/17552...</td>\n",
       "      <td>AVAILABLE FOR RENT Location: Dutse District Ab...</td>\n",
       "      <td>Feb 7, 2024 · 12:55 PM UTC</td>\n",
       "      <td>1</td>\n",
       "      <td>0</td>\n",
       "    </tr>\n",
       "  </tbody>\n",
       "</table>\n",
       "</div>"
      ],
      "text/plain": [
       "                                                link  \\\n",
       "0  https://twitter.com/theestatemart/status/17609...   \n",
       "1  https://twitter.com/theestatemart/status/17569...   \n",
       "2  https://twitter.com/theestatemart/status/17552...   \n",
       "\n",
       "                                                text  \\\n",
       "0  Available For Sale Location: Katampe, Abuja De...   \n",
       "1  A well finished, 7bedroom detached duplex with...   \n",
       "2  AVAILABLE FOR RENT Location: Dutse District Ab...   \n",
       "\n",
       "                         date  No_of_Likes  No_of_tweets  \n",
       "0  Feb 23, 2024 · 8:08 AM UTC            0             0  \n",
       "1  Feb 12, 2024 · 7:17 AM UTC            1             0  \n",
       "2  Feb 7, 2024 · 12:55 PM UTC            1             0  "
      ]
     },
     "execution_count": 13,
     "metadata": {},
     "output_type": "execute_result"
    }
   ],
   "source": [
    "data"
   ]
  },
  {
   "cell_type": "code",
   "execution_count": null,
   "metadata": {},
   "outputs": [],
   "source": []
  }
 ],
 "metadata": {
  "kernelspec": {
   "display_name": "Python 3",
   "language": "python",
   "name": "python3"
  },
  "language_info": {
   "codemirror_mode": {
    "name": "ipython",
    "version": 3
   },
   "file_extension": ".py",
   "mimetype": "text/x-python",
   "name": "python",
   "nbconvert_exporter": "python",
   "pygments_lexer": "ipython3",
   "version": "3.8.5"
  }
 },
 "nbformat": 4,
 "nbformat_minor": 4
}
